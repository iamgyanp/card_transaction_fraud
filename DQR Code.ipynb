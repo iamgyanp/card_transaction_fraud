{
 "cells": [
  {
   "cell_type": "code",
   "execution_count": 1,
   "metadata": {
    "collapsed": true
   },
   "outputs": [],
   "source": [
    "import numpy as np\n",
    "import pandas as pd\n",
    "import matplotlib.pyplot as plt\n",
    "import seaborn as sns\n",
    "import os\n",
    "import datetime as dt"
   ]
  },
  {
   "cell_type": "code",
   "execution_count": 2,
   "metadata": {
    "collapsed": true
   },
   "outputs": [],
   "source": [
    "%matplotlib inline"
   ]
  },
  {
   "cell_type": "code",
   "execution_count": 3,
   "metadata": {
    "collapsed": true
   },
   "outputs": [],
   "source": [
    "os.chdir('C:\\\\Users\\Gyan Prakash\\OneDrive - USC Marshall School of Business\\Spring 2018\\DSO 562\\Project 3')"
   ]
  },
  {
   "cell_type": "code",
   "execution_count": 4,
   "metadata": {
    "collapsed": false
   },
   "outputs": [],
   "source": [
    "data = pd.read_excel(\"card transactions.xlsx\") "
   ]
  },
  {
   "cell_type": "code",
   "execution_count": 13,
   "metadata": {
    "collapsed": false
   },
   "outputs": [
    {
     "data": {
      "text/plain": [
       "Index(['Recordnum', 'Cardnum', 'Date', 'Merchantnum', 'Merch Description',\n",
       "       'Merchant State', 'Merchant Zip', 'Transtype', 'Amount', 'Fraud'],\n",
       "      dtype='object')"
      ]
     },
     "execution_count": 13,
     "metadata": {},
     "output_type": "execute_result"
    }
   ],
   "source": [
    "data.columns"
   ]
  },
  {
   "cell_type": "code",
   "execution_count": 15,
   "metadata": {
    "collapsed": false
   },
   "outputs": [
    {
     "data": {
      "text/plain": [
       "Recordnum                     int64\n",
       "Cardnum                       int64\n",
       "Date                 datetime64[ns]\n",
       "Merchantnum                  object\n",
       "Merch Description            object\n",
       "Merchant State               object\n",
       "Merchant Zip                float64\n",
       "Transtype                    object\n",
       "Amount                      float64\n",
       "Fraud                         int64\n",
       "dtype: object"
      ]
     },
     "execution_count": 15,
     "metadata": {},
     "output_type": "execute_result"
    }
   ],
   "source": [
    "data.dtypes"
   ]
  },
  {
   "cell_type": "code",
   "execution_count": 16,
   "metadata": {
    "collapsed": false
   },
   "outputs": [
    {
     "name": "stderr",
     "output_type": "stream",
     "text": [
      "C:\\Anaconda3\\lib\\site-packages\\numpy\\lib\\function_base.py:3834: RuntimeWarning: Invalid value encountered in percentile\n",
      "  RuntimeWarning)\n"
     ]
    },
    {
     "data": {
      "text/html": [
       "<div>\n",
       "<table border=\"1\" class=\"dataframe\">\n",
       "  <thead>\n",
       "    <tr style=\"text-align: right;\">\n",
       "      <th></th>\n",
       "      <th>Recordnum</th>\n",
       "      <th>Cardnum</th>\n",
       "      <th>Merchant Zip</th>\n",
       "      <th>Amount</th>\n",
       "      <th>Fraud</th>\n",
       "    </tr>\n",
       "  </thead>\n",
       "  <tbody>\n",
       "    <tr>\n",
       "      <th>count</th>\n",
       "      <td>96708.000000</td>\n",
       "      <td>9.670800e+04</td>\n",
       "      <td>92052.000000</td>\n",
       "      <td>9.670800e+04</td>\n",
       "      <td>96708.000000</td>\n",
       "    </tr>\n",
       "    <tr>\n",
       "      <th>mean</th>\n",
       "      <td>48354.500000</td>\n",
       "      <td>5.142201e+09</td>\n",
       "      <td>44709.817603</td>\n",
       "      <td>4.278650e+02</td>\n",
       "      <td>0.010485</td>\n",
       "    </tr>\n",
       "    <tr>\n",
       "      <th>std</th>\n",
       "      <td>27917.339254</td>\n",
       "      <td>5.391327e+04</td>\n",
       "      <td>28376.097348</td>\n",
       "      <td>1.000847e+04</td>\n",
       "      <td>0.101859</td>\n",
       "    </tr>\n",
       "    <tr>\n",
       "      <th>min</th>\n",
       "      <td>1.000000</td>\n",
       "      <td>5.142110e+09</td>\n",
       "      <td>1.000000</td>\n",
       "      <td>1.000000e-02</td>\n",
       "      <td>0.000000</td>\n",
       "    </tr>\n",
       "    <tr>\n",
       "      <th>25%</th>\n",
       "      <td>24177.750000</td>\n",
       "      <td>5.142152e+09</td>\n",
       "      <td>NaN</td>\n",
       "      <td>3.345000e+01</td>\n",
       "      <td>0.000000</td>\n",
       "    </tr>\n",
       "    <tr>\n",
       "      <th>50%</th>\n",
       "      <td>48354.500000</td>\n",
       "      <td>5.142196e+09</td>\n",
       "      <td>NaN</td>\n",
       "      <td>1.379000e+02</td>\n",
       "      <td>0.000000</td>\n",
       "    </tr>\n",
       "    <tr>\n",
       "      <th>75%</th>\n",
       "      <td>72531.250000</td>\n",
       "      <td>5.142246e+09</td>\n",
       "      <td>NaN</td>\n",
       "      <td>4.277150e+02</td>\n",
       "      <td>0.000000</td>\n",
       "    </tr>\n",
       "    <tr>\n",
       "      <th>max</th>\n",
       "      <td>96708.000000</td>\n",
       "      <td>5.142311e+09</td>\n",
       "      <td>99999.000000</td>\n",
       "      <td>3.102046e+06</td>\n",
       "      <td>1.000000</td>\n",
       "    </tr>\n",
       "  </tbody>\n",
       "</table>\n",
       "</div>"
      ],
      "text/plain": [
       "          Recordnum       Cardnum  Merchant Zip        Amount         Fraud\n",
       "count  96708.000000  9.670800e+04  92052.000000  9.670800e+04  96708.000000\n",
       "mean   48354.500000  5.142201e+09  44709.817603  4.278650e+02      0.010485\n",
       "std    27917.339254  5.391327e+04  28376.097348  1.000847e+04      0.101859\n",
       "min        1.000000  5.142110e+09      1.000000  1.000000e-02      0.000000\n",
       "25%    24177.750000  5.142152e+09           NaN  3.345000e+01      0.000000\n",
       "50%    48354.500000  5.142196e+09           NaN  1.379000e+02      0.000000\n",
       "75%    72531.250000  5.142246e+09           NaN  4.277150e+02      0.000000\n",
       "max    96708.000000  5.142311e+09  99999.000000  3.102046e+06      1.000000"
      ]
     },
     "execution_count": 16,
     "metadata": {},
     "output_type": "execute_result"
    }
   ],
   "source": [
    "data.describe()"
   ]
  },
  {
   "cell_type": "code",
   "execution_count": 13,
   "metadata": {
    "collapsed": false
   },
   "outputs": [
    {
     "data": {
      "text/plain": [
       "96708"
      ]
     },
     "execution_count": 13,
     "metadata": {},
     "output_type": "execute_result"
    }
   ],
   "source": [
    "data.shape"
   ]
  },
  {
   "cell_type": "code",
   "execution_count": 20,
   "metadata": {
    "collapsed": false,
    "scrolled": true
   },
   "outputs": [
    {
     "data": {
      "text/plain": [
       "Recordnum            100.000000\n",
       "Cardnum              100.000000\n",
       "Date                 100.000000\n",
       "Merchantnum           96.510113\n",
       "Merch Description    100.000000\n",
       "Merchant State        98.764321\n",
       "Merchant Zip          95.185507\n",
       "Transtype            100.000000\n",
       "Amount               100.000000\n",
       "Fraud                100.000000\n",
       "dtype: float64"
      ]
     },
     "execution_count": 20,
     "metadata": {},
     "output_type": "execute_result"
    }
   ],
   "source": [
    "data.count()*100/data.shape[0]"
   ]
  },
  {
   "cell_type": "code",
   "execution_count": 38,
   "metadata": {
    "collapsed": false,
    "scrolled": true
   },
   "outputs": [
    {
     "data": {
      "text/plain": [
       "2047     1\n",
       "21151    1\n",
       "6806     1\n",
       "4759     1\n",
       "27288    1\n",
       "25241    1\n",
       "31386    1\n",
       "29339    1\n",
       "19100    1\n",
       "17053    1\n",
       "23198    1\n",
       "76464    1\n",
       "2708     1\n",
       "74417    1\n",
       "80562    1\n",
       "78515    1\n",
       "68276    1\n",
       "66229    1\n",
       "72374    1\n",
       "70327    1\n",
       "92856    1\n",
       "90809    1\n",
       "661      1\n",
       "12947    1\n",
       "84732    1\n",
       "37511    1\n",
       "88702    1\n",
       "86655    1\n",
       "43648    1\n",
       "41601    1\n",
       "        ..\n",
       "34170    1\n",
       "36219    1\n",
       "46460    1\n",
       "48509    1\n",
       "42366    1\n",
       "44415    1\n",
       "3435     1\n",
       "1386     1\n",
       "7529     1\n",
       "5480     1\n",
       "95556    1\n",
       "91462    1\n",
       "93511    1\n",
       "70984    1\n",
       "73033    1\n",
       "66890    1\n",
       "68939    1\n",
       "79180    1\n",
       "81229    1\n",
       "75086    1\n",
       "77135    1\n",
       "21856    1\n",
       "23905    1\n",
       "17762    1\n",
       "19811    1\n",
       "30052    1\n",
       "32101    1\n",
       "25958    1\n",
       "28007    1\n",
       "2049     1\n",
       "Name: Recordnum, dtype: int64"
      ]
     },
     "execution_count": 38,
     "metadata": {},
     "output_type": "execute_result"
    }
   ],
   "source": [
    "data['Recordnum'].value_counts()"
   ]
  },
  {
   "cell_type": "code",
   "execution_count": 24,
   "metadata": {
    "collapsed": false,
    "scrolled": true
   },
   "outputs": [
    {
     "data": {
      "text/plain": [
       "5142148452    1192\n",
       "5142184598     921\n",
       "5142189108     663\n",
       "5142297710     583\n",
       "5142223373     579\n",
       "5142187452     526\n",
       "5142299634     515\n",
       "5142189945     512\n",
       "5142149691     497\n",
       "5142190147     488\n",
       "5142230181     479\n",
       "5142157720     475\n",
       "5142152067     473\n",
       "5142143744     422\n",
       "5142125684     415\n",
       "5142259479     411\n",
       "5142273878     408\n",
       "5142176897     405\n",
       "5142132941     400\n",
       "5142131548     384\n",
       "5142289869     375\n",
       "5142260984     366\n",
       "5142139554     362\n",
       "5142271065     352\n",
       "5142146833     349\n",
       "5142267106     342\n",
       "5142221571     333\n",
       "5142142792     324\n",
       "5142149874     321\n",
       "5142225942     321\n",
       "              ... \n",
       "5142303638       1\n",
       "5142152186       1\n",
       "5142306704       1\n",
       "5142193886       1\n",
       "5142229882       1\n",
       "5142299970       1\n",
       "5142171822       1\n",
       "5142212903       1\n",
       "5142134652       1\n",
       "5142179269       1\n",
       "5142309242       1\n",
       "5142301566       1\n",
       "5142127059       1\n",
       "5142164097       1\n",
       "5142114644       1\n",
       "5142261640       1\n",
       "5142309697       1\n",
       "5142239628       1\n",
       "5142246010       1\n",
       "5142282130       1\n",
       "5142179056       1\n",
       "5142225132       1\n",
       "5142307636       1\n",
       "5142229531       1\n",
       "5142239493       1\n",
       "5142163835       1\n",
       "5142173161       1\n",
       "5142245286       1\n",
       "5142265215       1\n",
       "5142261785       1\n",
       "Name: Cardnum, dtype: int64"
      ]
     },
     "execution_count": 24,
     "metadata": {},
     "output_type": "execute_result"
    }
   ],
   "source": [
    "data['Cardnum'].value_counts()"
   ]
  },
  {
   "cell_type": "code",
   "execution_count": 25,
   "metadata": {
    "collapsed": false,
    "scrolled": true
   },
   "outputs": [
    {
     "data": {
      "text/plain": [
       "2010-02-28    684\n",
       "2010-08-10    610\n",
       "2010-03-15    594\n",
       "2010-09-13    564\n",
       "2010-08-09    536\n",
       "2010-09-07    536\n",
       "2010-09-14    533\n",
       "2010-09-21    522\n",
       "2010-08-01    521\n",
       "2010-08-31    518\n",
       "2010-08-29    503\n",
       "2010-09-28    503\n",
       "2010-02-16    501\n",
       "2010-09-19    497\n",
       "2010-09-29    496\n",
       "2010-08-24    495\n",
       "2010-02-09    495\n",
       "2010-06-06    492\n",
       "2010-09-20    491\n",
       "2010-06-29    472\n",
       "2010-08-23    470\n",
       "2010-07-13    469\n",
       "2010-03-22    464\n",
       "2010-08-30    462\n",
       "2010-05-16    461\n",
       "2010-07-19    460\n",
       "2010-09-15    459\n",
       "2010-08-22    454\n",
       "2010-08-03    454\n",
       "2010-05-11    453\n",
       "             ... \n",
       "2010-11-13     29\n",
       "2010-04-30     28\n",
       "2010-07-09     27\n",
       "2010-06-18     26\n",
       "2010-07-23     26\n",
       "2010-03-12     25\n",
       "2010-07-16     24\n",
       "2010-06-04     24\n",
       "2010-03-05     22\n",
       "2010-04-09     21\n",
       "2010-10-31     19\n",
       "2010-09-10     19\n",
       "2010-02-13     18\n",
       "2010-03-19     18\n",
       "2010-11-27     18\n",
       "2010-12-19     18\n",
       "2010-01-09     18\n",
       "2010-10-24     16\n",
       "2010-10-10     16\n",
       "2010-03-26     14\n",
       "2010-05-14     14\n",
       "2010-12-25     14\n",
       "2010-01-30     13\n",
       "2010-02-27     12\n",
       "2010-02-20     11\n",
       "2010-11-07     11\n",
       "2010-10-03     10\n",
       "2010-01-16      9\n",
       "2010-12-26      6\n",
       "2010-10-17      6\n",
       "Name: Date, dtype: int64"
      ]
     },
     "execution_count": 25,
     "metadata": {},
     "output_type": "execute_result"
    }
   ],
   "source": [
    "data['Date'].value_counts()"
   ]
  },
  {
   "cell_type": "code",
   "execution_count": 26,
   "metadata": {
    "collapsed": false,
    "scrolled": true
   },
   "outputs": [
    {
     "data": {
      "text/plain": [
       "930090121224     9310\n",
       "5509006296254    2131\n",
       "9900020006406    1714\n",
       "602608969534     1092\n",
       "4353000719908    1020\n",
       "410000971343      982\n",
       "9918000409955     956\n",
       "5725000466504     872\n",
       "9108234610000     817\n",
       "602608969138      783\n",
       "4503082476300     746\n",
       "2094206450000     590\n",
       "4063000739258     568\n",
       "2094330000009     533\n",
       "6920602000804     523\n",
       "8834000695412     478\n",
       "4591200814444     463\n",
       "602608969284      442\n",
       "9900000037306     435\n",
       "6859858914649     432\n",
       "806967335334      431\n",
       "2603800006005     419\n",
       "6170666166        392\n",
       "7725000069608     362\n",
       "809946579333      345\n",
       "9108234610006     343\n",
       "602608964157      309\n",
       "08-0963129334     307\n",
       "9108347680000     286\n",
       "9900000036906     285\n",
       "                 ... \n",
       "2094360006556       1\n",
       "605990720330        1\n",
       "57098094335         1\n",
       "913900670033        1\n",
       "808993896335        1\n",
       "809948138336        1\n",
       "7593706006784       1\n",
       "5600800063915       1\n",
       "6822409073168       1\n",
       "9080722930096       1\n",
       "6898685969429       1\n",
       "673675630339        1\n",
       "9100000008421       1\n",
       "810067909           1\n",
       "3600000006752       1\n",
       "5400000040460       1\n",
       "606890009           1\n",
       "6898685482938       1\n",
       "6070096510009       1\n",
       "4274210775951       1\n",
       "9104608340000       1\n",
       "6370030008616       1\n",
       "808671916331        1\n",
       "5186047208252       1\n",
       "216910006NOT0       1\n",
       "06-3666055636       1\n",
       "17549277654         1\n",
       "4506898027000       1\n",
       "4495235361978       1\n",
       "48163776757         1\n",
       "Name: Merchantnum, dtype: int64"
      ]
     },
     "execution_count": 26,
     "metadata": {},
     "output_type": "execute_result"
    }
   ],
   "source": [
    "data['Merchantnum'].value_counts()"
   ]
  },
  {
   "cell_type": "code",
   "execution_count": 27,
   "metadata": {
    "collapsed": false,
    "scrolled": true
   },
   "outputs": [
    {
     "data": {
      "text/plain": [
       "GSA-FSS-ADV                  1688\n",
       "SIGMA-ALDRICH                1635\n",
       "STAPLES #941                 1174\n",
       "FISHER SCI ATL               1093\n",
       "MWI*MICRO WAREHOUSE           958\n",
       "CDW*GOVERNMENT INC            872\n",
       "DELL MARKETING L.P.           816\n",
       "FISHER SCI CHI                783\n",
       "AMAZON.COM  *SUPERSTOR        750\n",
       "OFFICE DEPOT #1082            748\n",
       "VWR SCIENTIFIC PROD VCTS      688\n",
       "PC *PC CONNECTION             570\n",
       "C & C PRODUCT SERVICES        558\n",
       "BUY.COM                       481\n",
       "FISHER SCI HUS                442\n",
       "GSA/CUST SUPPLY CTR 97        435\n",
       "LAB SAFETY SUPPLY, INC        431\n",
       "PROFESS OFC ENTERPRISES       421\n",
       "FRANKLIN COVEY COMPANY        418\n",
       "STAPLES NATIONAL #471         417\n",
       "GLOBAL COMPUTER SUPPLY        410\n",
       "A DAIGER AND CO INC           392\n",
       "RETAIL CREDIT ADJUSTMENT      383\n",
       "GOVERNMENT SCIENTIFIC SOU     362\n",
       "LABSOURCE INC                 346\n",
       "COLE PARMER INSTRUMENT        341\n",
       "MC MASTER CARR SUPP           311\n",
       "GTSI                          309\n",
       "RETAIL DEBIT ADJUSTMENT       308\n",
       "THE LIGHTHOUSE                307\n",
       "                             ... \n",
       "AMSA                            1\n",
       "LEXIS-NEXIS *0001082748         1\n",
       "AMERICAN REPRO 2000             1\n",
       "URI-CCE                         1\n",
       "EARP S UPHOLSTERY               1\n",
       "AUDIO STUDIO                    1\n",
       "LOWE'S #26                      1\n",
       "ARROWHEAD APPLIANCE             1\n",
       "HARBOR FREIGHT TOOLS #76        1\n",
       "BOB SUMEREL TIRE #16            1\n",
       "INTL ORACLE USERS GRP           1\n",
       "TA # 108 LAS VEGAS              1\n",
       "SACNAS                          1\n",
       "ASSOC TROPICAL BIOLOGY          1\n",
       "ST LOUIS POST CLASS AD          1\n",
       "C INGRAM CO                     1\n",
       "INTEGRATED CIRCUIT ENGINE       1\n",
       "QSI CORPORATION                 1\n",
       "BOISECASCADE*IN#878156          1\n",
       "WEDGE TECHNOLOGY                1\n",
       "RADIO SHACK   00186346          1\n",
       "RADIO SHACK   00187054          1\n",
       "MOORE S STONE & GARDEN          1\n",
       "BEST BUY      00001990          1\n",
       "CUST SUPPORT TELECENTER         1\n",
       "CAULBOURN INSTRUMENTS           1\n",
       "A P D U                         1\n",
       "SMART PLANET.COM                1\n",
       "MEDIA RECOVERY                  1\n",
       "THE PACKAGING DEPOT             1\n",
       "Name: Merch Description, dtype: int64"
      ]
     },
     "execution_count": 27,
     "metadata": {},
     "output_type": "execute_result"
    }
   ],
   "source": [
    "data['Merch Description'].value_counts()"
   ]
  },
  {
   "cell_type": "code",
   "execution_count": 29,
   "metadata": {
    "collapsed": false,
    "scrolled": true
   },
   "outputs": [
    {
     "data": {
      "text/plain": [
       "TN     11990\n",
       "VA      7872\n",
       "CA      6817\n",
       "IL      6508\n",
       "MD      5398\n",
       "GA      5025\n",
       "PA      4899\n",
       "NJ      3912\n",
       "TX      3790\n",
       "NC      3322\n",
       "WA      3300\n",
       "DC      3208\n",
       "OH      3131\n",
       "NY      2430\n",
       "MO      2420\n",
       "FL      2143\n",
       "MA      2081\n",
       "MI      2033\n",
       "CO      1987\n",
       "OR      1510\n",
       "KS      1236\n",
       "WI       953\n",
       "CT       952\n",
       "MN       939\n",
       "UT       939\n",
       "NH       908\n",
       "NV       726\n",
       "KY       520\n",
       "RI       467\n",
       "OK       411\n",
       "       ...  \n",
       "610        1\n",
       "458        1\n",
       "269        1\n",
       "279        1\n",
       "107        1\n",
       "677        1\n",
       "505        1\n",
       "546        1\n",
       "808        1\n",
       "411        1\n",
       "787        1\n",
       "438        1\n",
       "390        1\n",
       "386        1\n",
       "579        1\n",
       "779        1\n",
       "726        1\n",
       "827        1\n",
       "488        1\n",
       "971        1\n",
       "380        1\n",
       "604        1\n",
       "189        1\n",
       "US         1\n",
       "354        1\n",
       "052        1\n",
       "423        1\n",
       "051        1\n",
       "666        1\n",
       "108        1\n",
       "Name: Merchant State, dtype: int64"
      ]
     },
     "execution_count": 29,
     "metadata": {},
     "output_type": "execute_result"
    }
   ],
   "source": [
    "data['Merchant State'].value_counts()"
   ]
  },
  {
   "cell_type": "code",
   "execution_count": 34,
   "metadata": {
    "collapsed": false,
    "scrolled": true
   },
   "outputs": [
    {
     "data": {
      "text/plain": [
       "38118.0    11823\n",
       "63103.0     1650\n",
       "8701.0      1267\n",
       "22202.0     1250\n",
       "60061.0     1221\n",
       "98101.0     1197\n",
       "17201.0     1180\n",
       "30091.0     1092\n",
       "60143.0      942\n",
       "60069.0      826\n",
       "78682.0      817\n",
       "19380.0      769\n",
       "20763.0      749\n",
       "20005.0      648\n",
       "20748.0      592\n",
       "20151.0      588\n",
       "22182.0      583\n",
       "97213.0      578\n",
       "22304.0      563\n",
       "92656.0      552\n",
       "20036.0      522\n",
       "84119.0      513\n",
       "22150.0      501\n",
       "77251.0      487\n",
       "19103.0      477\n",
       "53546.0      432\n",
       "7606.0       419\n",
       "22314.0      400\n",
       "60610.0      373\n",
       "27707.0      362\n",
       "           ...  \n",
       "43604.0        1\n",
       "43623.0        1\n",
       "44039.0        1\n",
       "44073.0        1\n",
       "44074.0        1\n",
       "44077.0        1\n",
       "44140.0        1\n",
       "44142.0        1\n",
       "44144.0        1\n",
       "44210.0        1\n",
       "44302.0        1\n",
       "44319.0        1\n",
       "44333.0        1\n",
       "44451.0        1\n",
       "44667.0        1\n",
       "44675.0        1\n",
       "44706.0        1\n",
       "45041.0        1\n",
       "45106.0        1\n",
       "45204.0        1\n",
       "45217.0        1\n",
       "45232.0        1\n",
       "45356.0        1\n",
       "45365.0        1\n",
       "45406.0        1\n",
       "45446.0        1\n",
       "45449.0        1\n",
       "45479.0        1\n",
       "45504.0        1\n",
       "44503.0        1\n",
       "Name: Merchant Zip, dtype: int64"
      ]
     },
     "execution_count": 34,
     "metadata": {},
     "output_type": "execute_result"
    }
   ],
   "source": [
    "data['Merchant Zip'].value_counts()"
   ]
  },
  {
   "cell_type": "code",
   "execution_count": 35,
   "metadata": {
    "collapsed": false
   },
   "outputs": [
    {
     "data": {
      "text/plain": [
       "P    96353\n",
       "A      181\n",
       "D      173\n",
       "Y        1\n",
       "Name: Transtype, dtype: int64"
      ]
     },
     "execution_count": 35,
     "metadata": {},
     "output_type": "execute_result"
    }
   ],
   "source": [
    "data['Transtype'].value_counts()"
   ]
  },
  {
   "cell_type": "code",
   "execution_count": 36,
   "metadata": {
    "collapsed": false,
    "scrolled": true
   },
   "outputs": [
    {
     "data": {
      "text/plain": [
       "3.62       4283\n",
       "3.67       1620\n",
       "3.74        913\n",
       "3.80        827\n",
       "4.37        378\n",
       "30.00       317\n",
       "3.85        271\n",
       "100.00      252\n",
       "75.00       243\n",
       "6.62        219\n",
       "19.95       210\n",
       "150.00      208\n",
       "50.00       205\n",
       "99.00       200\n",
       "300.00      196\n",
       "200.00      193\n",
       "350.00      178\n",
       "25.00       171\n",
       "250.00      171\n",
       "8.31        164\n",
       "60.00       159\n",
       "295.00      158\n",
       "2500.00     157\n",
       "35.00       157\n",
       "195.00      156\n",
       "500.00      149\n",
       "20.00       147\n",
       "199.00      146\n",
       "3.57        136\n",
       "125.00      135\n",
       "           ... \n",
       "180.49        1\n",
       "92.37         1\n",
       "179.26        1\n",
       "257.63        1\n",
       "253.87        1\n",
       "491.78        1\n",
       "487.74        1\n",
       "486.01        1\n",
       "485.76        1\n",
       "28.14         1\n",
       "260.39        1\n",
       "510.21        1\n",
       "134.55        1\n",
       "172.26        1\n",
       "482.99        1\n",
       "30.89         1\n",
       "481.76        1\n",
       "261.85        1\n",
       "480.72        1\n",
       "173.74        1\n",
       "32.39         1\n",
       "262.90        1\n",
       "135.32        1\n",
       "33.64         1\n",
       "495.99        1\n",
       "263.40        1\n",
       "494.47        1\n",
       "178.99        1\n",
       "132.44        1\n",
       "0.50          1\n",
       "Name: Amount, dtype: int64"
      ]
     },
     "execution_count": 36,
     "metadata": {},
     "output_type": "execute_result"
    }
   ],
   "source": [
    "data['Amount'].value_counts()"
   ]
  },
  {
   "cell_type": "code",
   "execution_count": 37,
   "metadata": {
    "collapsed": false
   },
   "outputs": [
    {
     "data": {
      "text/plain": [
       "0    95694\n",
       "1     1014\n",
       "Name: Fraud, dtype: int64"
      ]
     },
     "execution_count": 37,
     "metadata": {},
     "output_type": "execute_result"
    }
   ],
   "source": [
    "data['Fraud'].value_counts()"
   ]
  },
  {
   "cell_type": "code",
   "execution_count": 43,
   "metadata": {
    "collapsed": false,
    "scrolled": true
   },
   "outputs": [
    {
     "data": {
      "text/plain": [
       "96708"
      ]
     },
     "execution_count": 43,
     "metadata": {},
     "output_type": "execute_result"
    }
   ],
   "source": [
    "len(data['Recordnum'].unique())"
   ]
  },
  {
   "cell_type": "code",
   "execution_count": 44,
   "metadata": {
    "collapsed": false
   },
   "outputs": [
    {
     "data": {
      "text/plain": [
       "1644"
      ]
     },
     "execution_count": 44,
     "metadata": {},
     "output_type": "execute_result"
    }
   ],
   "source": [
    "len(data['Cardnum'].unique())"
   ]
  },
  {
   "cell_type": "code",
   "execution_count": 45,
   "metadata": {
    "collapsed": false
   },
   "outputs": [
    {
     "data": {
      "text/plain": [
       "365"
      ]
     },
     "execution_count": 45,
     "metadata": {},
     "output_type": "execute_result"
    }
   ],
   "source": [
    "len(data['Date'].unique())"
   ]
  },
  {
   "cell_type": "code",
   "execution_count": 46,
   "metadata": {
    "collapsed": false
   },
   "outputs": [
    {
     "data": {
      "text/plain": [
       "13091"
      ]
     },
     "execution_count": 46,
     "metadata": {},
     "output_type": "execute_result"
    }
   ],
   "source": [
    "len(data['Merchantnum'].unique())"
   ]
  },
  {
   "cell_type": "code",
   "execution_count": 47,
   "metadata": {
    "collapsed": false
   },
   "outputs": [
    {
     "data": {
      "text/plain": [
       "13125"
      ]
     },
     "execution_count": 47,
     "metadata": {},
     "output_type": "execute_result"
    }
   ],
   "source": [
    "len(data['Merch Description'].unique())"
   ]
  },
  {
   "cell_type": "code",
   "execution_count": 101,
   "metadata": {
    "collapsed": false
   },
   "outputs": [
    {
     "data": {
      "text/plain": [
       "228"
      ]
     },
     "execution_count": 101,
     "metadata": {},
     "output_type": "execute_result"
    }
   ],
   "source": [
    "len(data['Merchant State'].unique())"
   ]
  },
  {
   "cell_type": "code",
   "execution_count": 48,
   "metadata": {
    "collapsed": false
   },
   "outputs": [
    {
     "data": {
      "text/plain": [
       "4568"
      ]
     },
     "execution_count": 48,
     "metadata": {},
     "output_type": "execute_result"
    }
   ],
   "source": [
    "len(data['Merchant Zip'].unique())"
   ]
  },
  {
   "cell_type": "code",
   "execution_count": 49,
   "metadata": {
    "collapsed": false
   },
   "outputs": [
    {
     "data": {
      "text/plain": [
       "4"
      ]
     },
     "execution_count": 49,
     "metadata": {},
     "output_type": "execute_result"
    }
   ],
   "source": [
    "len(data['Transtype'].unique())"
   ]
  },
  {
   "cell_type": "code",
   "execution_count": 50,
   "metadata": {
    "collapsed": false
   },
   "outputs": [
    {
     "data": {
      "text/plain": [
       "34876"
      ]
     },
     "execution_count": 50,
     "metadata": {},
     "output_type": "execute_result"
    }
   ],
   "source": [
    "len(data['Amount'].unique())"
   ]
  },
  {
   "cell_type": "code",
   "execution_count": 51,
   "metadata": {
    "collapsed": false
   },
   "outputs": [
    {
     "data": {
      "text/plain": [
       "2"
      ]
     },
     "execution_count": 51,
     "metadata": {},
     "output_type": "execute_result"
    }
   ],
   "source": [
    "len(data['Fraud'].unique())"
   ]
  },
  {
   "cell_type": "code",
   "execution_count": 58,
   "metadata": {
    "collapsed": false
   },
   "outputs": [
    {
     "name": "stderr",
     "output_type": "stream",
     "text": [
      "C:\\Anaconda3\\lib\\site-packages\\statsmodels\\nonparametric\\kdetools.py:20: VisibleDeprecationWarning: using a non-integer number instead of an integer will result in an error in the future\n",
      "  y = X[:m/2+1] + np.r_[0,X[m/2+1:],0]*1j\n"
     ]
    },
    {
     "data": {
      "text/plain": [
       "<matplotlib.axes._subplots.AxesSubplot at 0x2080d2634a8>"
      ]
     },
     "execution_count": 58,
     "metadata": {},
     "output_type": "execute_result"
    },
    {
     "data": {
      "image/png": "[encoded data removed]",
      "text/plain": [
       "<matplotlib.figure.Figure at 0x2080d4665c0>"
      ]
     },
     "metadata": {},
     "output_type": "display_data"
    }
   ],
   "source": [
    "sns.distplot(data['Recordnum'])"
   ]
  },
  {
   "cell_type": "code",
   "execution_count": 59,
   "metadata": {
    "collapsed": false,
    "scrolled": true
   },
   "outputs": [
    {
     "name": "stderr",
     "output_type": "stream",
     "text": [
      "C:\\Anaconda3\\lib\\site-packages\\statsmodels\\nonparametric\\kdetools.py:20: VisibleDeprecationWarning: using a non-integer number instead of an integer will result in an error in the future\n",
      "  y = X[:m/2+1] + np.r_[0,X[m/2+1:],0]*1j\n"
     ]
    },
    {
     "data": {
      "text/plain": [
       "<matplotlib.axes._subplots.AxesSubplot at 0x208101a52b0>"
      ]
     },
     "execution_count": 59,
     "metadata": {},
     "output_type": "execute_result"
    },
    {
     "data": {
      "image/png": "[encoded data removed]",
      "text/plain": [
       "<matplotlib.figure.Figure at 0x2080fe664e0>"
      ]
     },
     "metadata": {},
     "output_type": "display_data"
    }
   ],
   "source": [
    "sns.distplot(data['Cardnum'])"
   ]
  },
  {
   "cell_type": "code",
   "execution_count": 136,
   "metadata": {
    "collapsed": false
   },
   "outputs": [
    {
     "data": {
      "text/plain": [
       "<matplotlib.axes._subplots.AxesSubplot at 0x20810221198>"
      ]
     },
     "execution_count": 136,
     "metadata": {},
     "output_type": "execute_result"
    },
    {
     "data": {
      "image/png": "[encoded data removed]",
      "text/plain": [
       "<matplotlib.figure.Figure at 0x2080dfcef28>"
      ]
     },
     "metadata": {},
     "output_type": "display_data"
    }
   ],
   "source": [
    "card_freq = data['Cardnum'].value_counts()\n",
    "card_freq20 = card_freq.head(20)\n",
    "cf20 = card_freq20.to_frame()\n",
    "cf20.reset_index(level=0, inplace=True)\n",
    "cf20['index'].astype(str)\n",
    "cf20.plot('index','Cardnum',kind='bar',legend=False)"
   ]
  },
  {
   "cell_type": "code",
   "execution_count": 55,
   "metadata": {
    "collapsed": false
   },
   "outputs": [
    {
     "name": "stderr",
     "output_type": "stream",
     "text": [
      "C:\\Anaconda3\\lib\\site-packages\\statsmodels\\nonparametric\\kdetools.py:20: VisibleDeprecationWarning: using a non-integer number instead of an integer will result in an error in the future\n",
      "  y = X[:m/2+1] + np.r_[0,X[m/2+1:],0]*1j\n"
     ]
    },
    {
     "data": {
      "text/plain": [
       "<matplotlib.axes._subplots.AxesSubplot at 0x23eefe11940>"
      ]
     },
     "execution_count": 55,
     "metadata": {},
     "output_type": "execute_result"
    },
    {
     "data": {
      "image/png": "[encoded data removed]",
      "text/plain": [
       "<matplotlib.figure.Figure at 0x23eefe15e80>"
      ]
     },
     "metadata": {},
     "output_type": "display_data"
    }
   ],
   "source": [
    "data_date = pd.to_datetime(data['Date']) #format='%m/%d/%Y'\n",
    "\n",
    "data_date.dt.month\n",
    "data_date.dt.week\n",
    "data_date.dt.year\n",
    "\n",
    "date = pd.crosstab(index = data_date, columns = 'count')\n",
    "sns.distplot(date)"
   ]
  },
  {
   "cell_type": "code",
   "execution_count": 97,
   "metadata": {
    "collapsed": false
   },
   "outputs": [
    {
     "data": {
      "text/plain": [
       "<matplotlib.axes._subplots.AxesSubplot at 0x23ef25fd940>"
      ]
     },
     "execution_count": 97,
     "metadata": {},
     "output_type": "execute_result"
    },
    {
     "data": {
      "image/png": "[encoded data removed]",
      "text/plain": [
       "<matplotlib.figure.Figure at 0x23ef42043c8>"
      ]
     },
     "metadata": {},
     "output_type": "display_data"
    }
   ],
   "source": [
    "data.assign(trx = np.ones(len(data.index)))\\\n",
    ".set_index(data_date)\\\n",
    ".resample(dt.timedelta(days = 1))\\\n",
    ".count()\\\n",
    ".trx\\\n",
    ".plot()"
   ]
  },
  {
   "cell_type": "code",
   "execution_count": 67,
   "metadata": {
    "collapsed": false
   },
   "outputs": [
    {
     "data": {
      "text/plain": [
       "<matplotlib.axes._subplots.AxesSubplot at 0x2080e924358>"
      ]
     },
     "execution_count": 67,
     "metadata": {},
     "output_type": "execute_result"
    },
    {
     "data": {
      "image/png": "[encoded data removed]",
      "text/plain": [
       "<matplotlib.figure.Figure at 0x2080ea157b8>"
      ]
     },
     "metadata": {},
     "output_type": "display_data"
    }
   ],
   "source": [
    "data.assign(trx = np.ones(len(data.index)))\\\n",
    ".set_index(data_date)\\\n",
    ".resample(dt.timedelta(days = 7))\\\n",
    ".count()\\\n",
    ".trx\\\n",
    ".plot()"
   ]
  },
  {
   "cell_type": "code",
   "execution_count": 56,
   "metadata": {
    "collapsed": false,
    "scrolled": false
   },
   "outputs": [
    {
     "data": {
      "text/plain": [
       "<matplotlib.axes._subplots.AxesSubplot at 0x23eefee0390>"
      ]
     },
     "execution_count": 56,
     "metadata": {},
     "output_type": "execute_result"
    },
    {
     "data": {
      "image/png": "[encoded data removed]",
      "text/plain": [
       "<matplotlib.figure.Figure at 0x23eefe1db00>"
      ]
     },
     "metadata": {},
     "output_type": "display_data"
    }
   ],
   "source": [
    "data.assign(trx = np.ones(len(data.index)))\\\n",
    ".set_index(data_date)\\\n",
    ".resample(dt.timedelta(days = 30))\\\n",
    ".count()\\\n",
    ".trx\\\n",
    ".plot()"
   ]
  },
  {
   "cell_type": "code",
   "execution_count": 105,
   "metadata": {
    "collapsed": false
   },
   "outputs": [
    {
     "data": {
      "text/plain": [
       "<matplotlib.axes._subplots.AxesSubplot at 0x23e81386fd0>"
      ]
     },
     "execution_count": 105,
     "metadata": {},
     "output_type": "execute_result"
    },
    {
     "data": {
      "image/png": "[encoded data removed]",
      "text/plain": [
       "<matplotlib.figure.Figure at 0x23e813866a0>"
      ]
     },
     "metadata": {},
     "output_type": "display_data"
    }
   ],
   "source": [
    "datefreq = data_date.value_counts()\n",
    "datefreq20 = datefreq.head(20)\n",
    "df20 = datefreq20.to_frame()\n",
    "df20.reset_index(level=0, inplace=True)\n",
    "df20['index'].astype(str)\n",
    "df20.plot('index','Date',kind='bar',legend=False)"
   ]
  },
  {
   "cell_type": "code",
   "execution_count": 96,
   "metadata": {
    "collapsed": false
   },
   "outputs": [
    {
     "data": {
      "text/plain": [
       "<matplotlib.axes._subplots.AxesSubplot at 0x23ef4564860>"
      ]
     },
     "execution_count": 96,
     "metadata": {},
     "output_type": "execute_result"
    },
    {
     "data": {
      "image/png": "[encoded data removed]",
      "text/plain": [
       "<matplotlib.figure.Figure at 0x23ef4334b70>"
      ]
     },
     "metadata": {},
     "output_type": "display_data"
    }
   ],
   "source": [
    "fraud = data['Fraud'].value_counts()\n",
    "fraud.plot.pie(figsize=(6,6),autopct='%1.2f%%',fontsize=14,colors=('yellow','magenta'))"
   ]
  },
  {
   "cell_type": "code",
   "execution_count": 106,
   "metadata": {
    "collapsed": false
   },
   "outputs": [
    {
     "data": {
      "image/png": "[encoded data removed]",
      "text/plain": [
       "<matplotlib.figure.Figure at 0x23e813cef28>"
      ]
     },
     "metadata": {},
     "output_type": "display_data"
    }
   ],
   "source": [
    "merchnum = data['Merchantnum'].value_counts()\n",
    "merchnum20 = merchnum.head(20)\n",
    "mn20 = merchnum20.to_frame()\n",
    "mn20.reset_index(level=0, inplace=True)\n",
    "mn20['index'].astype(str)\n",
    "mn20.plot('index','Merchantnum',kind='bar',legend=False)\n",
    "plt.yscale('log')"
   ]
  },
  {
   "cell_type": "code",
   "execution_count": 66,
   "metadata": {
    "collapsed": false
   },
   "outputs": [
    {
     "data": {
      "text/plain": [
       "<matplotlib.axes._subplots.AxesSubplot at 0x23ef065de48>"
      ]
     },
     "execution_count": 66,
     "metadata": {},
     "output_type": "execute_result"
    },
    {
     "data": {
      "image/png": "[encoded data removed]",
      "text/plain": [
       "<matplotlib.figure.Figure at 0x23ef069c080>"
      ]
     },
     "metadata": {},
     "output_type": "display_data"
    }
   ],
   "source": [
    "merchdes = data['Merch Description'].value_counts()\n",
    "merchdes20 = merchdes.head(20)\n",
    "md20 = merchdes20.to_frame()\n",
    "md20.reset_index(level=0, inplace=True)\n",
    "md20['index'].astype(str)\n",
    "md20.plot('index','Merch Description',kind='bar',legend=False)"
   ]
  },
  {
   "cell_type": "code",
   "execution_count": 68,
   "metadata": {
    "collapsed": false
   },
   "outputs": [
    {
     "data": {
      "text/plain": [
       "<matplotlib.axes._subplots.AxesSubplot at 0x23ef0780048>"
      ]
     },
     "execution_count": 68,
     "metadata": {},
     "output_type": "execute_result"
    },
    {
     "data": {
      "image/png": "[encoded data removed]",
      "text/plain": [
       "<matplotlib.figure.Figure at 0x23ef0568208>"
      ]
     },
     "metadata": {},
     "output_type": "display_data"
    }
   ],
   "source": [
    "merchstate = data['Merchant State'].value_counts()\n",
    "merchstate20 = merchstate.head(20)\n",
    "ms20 = merchstate20.to_frame()\n",
    "ms20.reset_index(level=0, inplace=True)\n",
    "ms20['index'].astype(str)\n",
    "ms20.plot('index','Merchant State',kind='bar',legend=False)"
   ]
  },
  {
   "cell_type": "code",
   "execution_count": 107,
   "metadata": {
    "collapsed": false,
    "scrolled": true
   },
   "outputs": [
    {
     "data": {
      "image/png": "[encoded data removed]",
      "text/plain": [
       "<matplotlib.figure.Figure at 0x23efffbdc50>"
      ]
     },
     "metadata": {},
     "output_type": "display_data"
    }
   ],
   "source": [
    "merchzip = data['Merchant Zip'].value_counts()\n",
    "merchzip20 = merchzip.head(20)\n",
    "mz20 = merchzip20.to_frame()\n",
    "mz20.reset_index(level=0, inplace=True)\n",
    "mz20['index'].astype(str)\n",
    "mz20.plot('index','Merchant Zip',kind='bar',legend=False)\n",
    "plt.yscale('log')"
   ]
  },
  {
   "cell_type": "code",
   "execution_count": 83,
   "metadata": {
    "collapsed": false
   },
   "outputs": [
    {
     "data": {
      "text/plain": [
       "<matplotlib.axes._subplots.AxesSubplot at 0x23ef26097f0>"
      ]
     },
     "execution_count": 83,
     "metadata": {},
     "output_type": "execute_result"
    },
    {
     "data": {
      "image/png": "[encoded data removed]",
      "text/plain": [
       "<matplotlib.figure.Figure at 0x23ef2696630>"
      ]
     },
     "metadata": {},
     "output_type": "display_data"
    }
   ],
   "source": [
    "trans = data['Transtype'].value_counts()\n",
    "tt = trans.to_frame()\n",
    "tt.reset_index(level=0, inplace=True)\n",
    "tt['index'].astype(str)\n",
    "tt.plot('index','Transtype',kind='bar',legend=False)"
   ]
  },
  {
   "cell_type": "code",
   "execution_count": 84,
   "metadata": {
    "collapsed": false
   },
   "outputs": [
    {
     "data": {
      "text/plain": [
       "<matplotlib.axes._subplots.AxesSubplot at 0x23ef26fbb70>"
      ]
     },
     "execution_count": 84,
     "metadata": {},
     "output_type": "execute_result"
    },
    {
     "data": {
      "image/png": "[encoded data removed]",
      "text/plain": [
       "<matplotlib.figure.Figure at 0x23ef25de908>"
      ]
     },
     "metadata": {},
     "output_type": "display_data"
    }
   ],
   "source": [
    "trans = data['Transtype'].value_counts()\n",
    "tt3 = trans.tail(3)\n",
    "tt3 = tt3.to_frame()\n",
    "tt3.reset_index(level=0, inplace=True)\n",
    "tt3['index'].astype(str)\n",
    "tt3.plot('index','Transtype',kind='bar',legend=False)"
   ]
  },
  {
   "cell_type": "code",
   "execution_count": 100,
   "metadata": {
    "collapsed": false
   },
   "outputs": [
    {
     "data": {
      "image/png": "[encoded data removed]",
      "text/plain": [
       "<matplotlib.figure.Figure at 0x23efe8ed668>"
      ]
     },
     "metadata": {},
     "output_type": "display_data"
    }
   ],
   "source": [
    "trans = data['Transtype'].value_counts()\n",
    "tt4 = trans.to_frame()\n",
    "tt4.reset_index(level=0, inplace=True)\n",
    "tt4['index'].astype(str)\n",
    "tt4.plot('index','Transtype',kind='bar',legend=False)\n",
    "plt.yscale('log')"
   ]
  },
  {
   "cell_type": "code",
   "execution_count": 91,
   "metadata": {
    "collapsed": false
   },
   "outputs": [
    {
     "data": {
      "image/png": "[encoded data removed]",
      "text/plain": [
       "<matplotlib.figure.Figure at 0x23efea2dd30>"
      ]
     },
     "metadata": {},
     "output_type": "display_data"
    }
   ],
   "source": [
    "plt.plot(data['Amount'])\n",
    "plt.yscale('log')"
   ]
  },
  {
   "cell_type": "code",
   "execution_count": 6,
   "metadata": {
    "collapsed": false
   },
   "outputs": [
    {
     "data": {
      "image/png": "[encoded data removed]",
      "text/plain": [
       "<matplotlib.figure.Figure at 0x2113fbdad68>"
      ]
     },
     "metadata": {},
     "output_type": "display_data"
    }
   ],
   "source": [
    "amount = data['Amount'].value_counts()\n",
    "at = amount.to_frame()\n",
    "at20 = at.head(20)\n",
    "at20.reset_index(level=0, inplace=True)\n",
    "at20['index'].astype(str)\n",
    "at20.plot('index','Amount',kind='bar',legend=False)\n",
    "plt.yscale('log')"
   ]
  }
 ],
 "metadata": {
  "anaconda-cloud": {},
  "kernelspec": {
   "display_name": "Python [Anaconda3]",
   "language": "python",
   "name": "Python [Anaconda3]"
  },
  "language_info": {
   "codemirror_mode": {
    "name": "ipython",
    "version": 3
   },
   "file_extension": ".py",
   "mimetype": "text/x-python",
   "name": "python",
   "nbconvert_exporter": "python",
   "pygments_lexer": "ipython3",
   "version": "3.5.2"
  }
 },
 "nbformat": 4,
 "nbformat_minor": 0
}
